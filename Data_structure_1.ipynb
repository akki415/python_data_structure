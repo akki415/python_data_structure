{
  "cells": [
    {
      "cell_type": "markdown",
      "source": [
        "# Data Structure"
      ],
      "metadata": {
        "id": "7erB_tr3ws1k"
      }
    },
    {
      "cell_type": "markdown",
      "source": [
        "ques 1>> __What are data structures, and why are they important?__               \n",
        "        --> Data structures are ways to organize and store data in a computer. They are important because they help make it easier to access, retrieve, and update data.                                               \n",
        "        --> Data structure also, helps in problem solving, Code reusability and increase program preformance."
      ],
      "metadata": {
        "id": "7NOSFSSEwxVI"
      }
    },
    {
      "cell_type": "markdown",
      "source": [
        "__Explain the difference between mutable and immutable data types with examples__                                                                       \n",
        "    --> In Python, Mutable data types can be changed after they are created lists and dictionaries are mutable data types example. You can change, add, or remove elements from a list.                                              \n",
        "    --> Immutable data types can not be changed after they are created,strings and tuples are immutable data types examples i.e You cannot change the content of a string after it is created.\n",
        "\n",
        "\n",
        "\n",
        "    example of mutability: list, set\n",
        "         list1 = [1, 2, 'p', 5]\n",
        "         list1[3] = 'a'\n",
        "         print(list1)\n",
        "\n",
        "         output: [1, 2, 'a', 5]\n",
        "\n",
        "    example of immutability: string , tuples\n",
        "          string1 = \"Akash\"\n",
        "          string1[0] = \"y\"   # error as immutable data type"
      ],
      "metadata": {
        "id": "oXAD-42MwxLn"
      }
    },
    {
      "cell_type": "markdown",
      "source": [
        "__What are the main differences between lists and tuples in Python__             \n",
        "    --> List being dynamic in nature are designed to be flexible hence needs mutability for their dynamic nature and are often used when you need to perform operations like adding, removing, or updating elements frequently.   \n",
        "    --> Tuples are immutable because they are meant to be used for fixed collections of items that shouldn't change like use of cordinates (x,y)"
      ],
      "metadata": {
        "id": "AjfvWh8LwxCL"
      }
    },
    {
      "cell_type": "markdown",
      "source": [
        "__Describe how dictionaries store data__                                         \n",
        "    --> A Python dictionary is a data structure that stores the value in key: value pairs. Values in a dictionary can be of any data type and can be duplicated, whereas keys can’t be repeated and must be immutable.\n",
        "\n",
        "\n",
        "    example:\n",
        "            d = {1: 'oranges', 2: 'grapes', 3: 'apples'}\n",
        "               print(d)"
      ],
      "metadata": {
        "id": "YrmsWQcdww4y"
      }
    },
    {
      "cell_type": "markdown",
      "source": [
        "__Why might you use a set instead of a list in Python__                          \n",
        "   --> Set is an unordered collection of data type that is iterable, mutable, and has no duplicate elements. The major advantage of using a set, as opposed to a list, is that it has a highly optimized method for checking whether a specific element is contained in the set.                      sets are highly useful to efficiently remove duplicate values from a list or tuple and to perform common math operations like unions and intersections."
      ],
      "metadata": {
        "id": "E5hohOuQwwwE"
      }
    },
    {
      "cell_type": "markdown",
      "source": [
        "__What is a string in Python, and how is it different from a list__              \n",
        "   --> a string is a sequence of characters, while a list is a sequence of items.                                                                        \n",
        "   --> A list is mutable, meaning you can modify its elements after it is created. On the other hand, a string is immutable, which means you cannot change its characters once it is created.                                     \n",
        "   -->  a list is enclosed in square brackets ([]), and its elements are separated by commas. For example: `[1, 2, 3, 4]`. In contrast, a string is enclosed in either single quotes ('') or double quotes (\"\")."
      ],
      "metadata": {
        "id": "8MpBA1V3wwmt"
      }
    },
    {
      "cell_type": "markdown",
      "source": [
        "__How do tuples ensure data integrity in Python__                                \n",
        "  --> By ensuring that the data’s structure and contents stay consistent, tuples can be utilised to ensure data integrity. To make sure the caller is aware of how much data to expect, for instance, if a function returns a set amount of values, you might want to return them as a tuple rather than a list."
      ],
      "metadata": {
        "id": "VE-bmkfewwc1"
      }
    },
    {
      "cell_type": "markdown",
      "source": [
        "__What is a hash table, and how does it relate to dictionaries in Python__       \n",
        "   --> A hash table is a data structure that stores key-value pairs, and Python dictionaries are implemented using hash tables."
      ],
      "metadata": {
        "id": "7ZpjQxZfwwKK"
      }
    },
    {
      "cell_type": "markdown",
      "source": [
        "__Can lists contain different data types in Python__                             \n",
        "   --> Yes, in Python, lists can contain different data types. A list is a mutable container that can hold any type of object, such as numbers, strings, booleans, other lists, or even more complex data structures like dictionaries or tuples.\n",
        "\n",
        "   \n",
        "   \n",
        "    example:\n",
        "             my_list = [42, \"hello\", 3.14, True, [1, 2, 3]]\n",
        "       "
      ],
      "metadata": {
        "id": "k7s1XpzVwwAn"
      }
    },
    {
      "cell_type": "markdown",
      "source": [
        "__Explain why strings are immutable in Python__                                  \n",
        "  --> Strings in Python are immutable because once a string is created, it cannot be changed or modified. This means that any operation that appears to modify a string actually creates a new string instead of changing the original one."
      ],
      "metadata": {
        "id": "i4oRf0RBwv4j"
      }
    },
    {
      "cell_type": "markdown",
      "source": [
        "__What advantages do dictionaries offer over lists for certain tasks__           \n",
        "   --> Dictionaries in Python offer several advantages over lists, particularly when it comes to tasks involving efficient lookups, key-value pairs, and data organization. some key advantages of using dictionaries over lists are.\n",
        "\n",
        "   -->Efficient Lookups by Key, Key-Value Pair Organization, No Need for Index Management"
      ],
      "metadata": {
        "id": "m_UQaQn7wvu_"
      }
    },
    {
      "cell_type": "markdown",
      "source": [
        "__Describe a scenario where using a tuple would be preferable over a list__      \n",
        "   --> A tuple would be preferable over a list in situations where you need an immutable collection of items. The immutability of tuples provides several advantages in specific scenarios, particularly where you want to ensure data integrity, prevent accidental changes, or use a collection as a key in a dictionary.\n",
        "\n",
        "\n",
        "\n",
        "    examle:\n",
        "         in Storing Coordinates (Latitude, Longitude) as you not want them to be mutable"
      ],
      "metadata": {
        "id": "WpFjfiwIwvmV"
      }
    },
    {
      "cell_type": "markdown",
      "source": [
        "__How do sets handle duplicate values in Python__                                \n",
        "  --> In Python, a set is a collection data type that automatically handles duplicates by removing any repeated values. A set only stores unique elements, meaning if you try to add a duplicate value, it will be ignored.\n",
        "\n",
        "  --> i.e Python automatically handle duplicates by ensuring that each element is unique. If you add a duplicate value, it will simply be ignored."
      ],
      "metadata": {
        "id": "QS4Fwphmwvbq"
      }
    },
    {
      "cell_type": "markdown",
      "source": [
        "__How does the “in” keyword work differently for lists and dictionaries__        \n",
        "  --> When you use the in keyword with a list, it checks whether a specific element is present in the list.\n",
        "\n",
        "  --> When you use the in keyword with a dictionary, it checks for keys, not values hence no need for index management\n",
        "\n"
      ],
      "metadata": {
        "id": "KRsbaB4WwvRU"
      }
    },
    {
      "cell_type": "markdown",
      "source": [
        "__Can you modify the elements of a tuple? Explain why or why not__\n",
        "   --> No, you cannot modify the elements of a tuple in Python because tuples are immutable. This means once a tuple is created, its elements cannot be changed, added, or removed.\n",
        "\n",
        "   --> REASONS\n",
        "      -->for Safety and Integrity, Efficiency, Hashability\n",
        "\n",
        "\n",
        "\n",
        "      my_tuple = (1, 2, 3)\n",
        "       # Trying to modify\n",
        "       my_tuple[1] = 4  # This will raise a TypeError"
      ],
      "metadata": {
        "id": "qK72Hvo7wu8e"
      }
    },
    {
      "cell_type": "markdown",
      "source": [
        "__What is a nested dictionary, and give an example of its use case__             \n",
        "   --> A nested dictionary is a dictionary where the values associated with keys are themselves dictionaries. This allows you to create more complex data structures where each key can contain a dictionary, enabling hierarchical or multi-level data representation.\n",
        "\n",
        "\n",
        "\n",
        "    \n",
        "    \n",
        "    Example: Storing Information About Multiple Employees\n",
        "       employees = {\n",
        "    'E001': {'name': 'Alice', 'age': 30, 'department': 'HR'},\n",
        "    'E002': {'name': 'Bob', 'age': 25, 'department': 'Engineering'},\n",
        "    'E003': {'name': 'Charlie', 'age': 28, 'department': 'Marketing'}\n",
        "            }\n",
        "\n",
        "            print(employees['E001']['name'])  # Output: Alice"
      ],
      "metadata": {
        "id": "VtxbRgNQwus2"
      }
    },
    {
      "cell_type": "markdown",
      "source": [
        "__Describe the time complexity of accessing elements in a dictionary__           \n",
        "    --> The time complexity of accessing elements in a dictionary in Python is O(1) on average, which means it takes constant time to look up an element. This is one of the key reasons dictionaries are so efficient for tasks that involve looking up values by keys."
      ],
      "metadata": {
        "id": "BDUZH_RowuM9"
      }
    },
    {
      "cell_type": "markdown",
      "source": [
        "__In what situations are lists preferred over dictionaries__                     \n",
        "      --> While dictionaries are excellent for fast lookups based on keys, there are situations where lists are preferred over dictionaries due to their unique properties.\n",
        "\n",
        "      example: When order is important, When You need to access elements by index,\n",
        "\n",
        "      or If you're working with a list of student grades for a class and you just want to calculate the average or sort them, a list would be the natural choice"
      ],
      "metadata": {
        "id": "bf1hXesdwt_K"
      }
    },
    {
      "cell_type": "markdown",
      "source": [
        "__Why are dictionaries considered unordered, and how does that affect data retrieval__\n",
        "   --> Dictionaries in Python were originally considered unordered because,  the order of key-value pairs was not guaranteed. This meant that when you iterated over a dictionary, you couldn’t be sure of the order in which the items would appear.                                                           \n",
        "   --> but nowdictionaries became insertion-ordered by default. This means that dictionaries now preserve the order of key-value pairs as they were inserted, i.e., items are returned in the order in which they were added.\n",
        "\n",
        "   --> how it affects:\n",
        "          If you tried to iterate through a dictionary, the order in which key-value pairs appeared was undefined.\n",
        "\n",
        "\n",
        "\n",
        "          "
      ],
      "metadata": {
        "id": "vdbXsmFJyrF-"
      }
    },
    {
      "cell_type": "markdown",
      "source": [
        "__Explain the difference between a list and a dictionary in terms of data retrieval__\n",
        "\n",
        " -->List: Data is accessed by index (position) in the list. Indexes are integers that represent the position of an element in the sequence\n",
        "\n",
        "\n",
        "    example:\n",
        "          my_list = [10, 20, 30, 40]\n",
        "          print(my_list[2])  # Output: 30\n",
        "\n",
        "-->Dictionary: Data is accessed by key. A dictionary stores key-value pairs, where each key is unique, and it maps to a specific value. To retrieve a value, you use the key associated with it.\n",
        "\n",
        "\n",
        "\n",
        "       example:\n",
        "                my_dict = {'a': 10, 'b': 20, 'c': 30}\n",
        "                print(my_dict['b'])  # Output: 20"
      ],
      "metadata": {
        "id": "RNB-uKDkywGh"
      }
    },
    {
      "cell_type": "code",
      "execution_count": null,
      "metadata": {
        "id": "bObpylPtwmv0",
        "outputId": "67403193-f1de-4e1e-9d30-b78c31757759"
      },
      "outputs": [
        {
          "name": "stdout",
          "output_type": "stream",
          "text": [
            "akash tomar\n"
          ]
        }
      ],
      "source": [
        "# Write a code to create a string with your name and print it?\n",
        "\n",
        "name = \"akash tomar\"\n",
        "print(name)"
      ]
    },
    {
      "cell_type": "code",
      "execution_count": null,
      "metadata": {
        "id": "22w8W6_9wmv3",
        "outputId": "3856b362-a38e-4b77-d70e-4d6fe25da8e6"
      },
      "outputs": [
        {
          "name": "stdout",
          "output_type": "stream",
          "text": [
            "11\n"
          ]
        }
      ],
      "source": [
        "#Write a code to find the length of the string \"Hello World\"?\n",
        "\n",
        "string1 = \"Hello World\"\n",
        "print(len(string1))"
      ]
    },
    {
      "cell_type": "code",
      "execution_count": null,
      "metadata": {
        "id": "E8XZkK8vwmv3",
        "outputId": "6af8de2e-d296-4bd4-e895-0ff7df2ee32d"
      },
      "outputs": [
        {
          "name": "stdout",
          "output_type": "stream",
          "text": [
            "Pyt\n"
          ]
        }
      ],
      "source": [
        "#Write a code to slice the first 3 characters from the string \"Python Programming\"?\n",
        "\n",
        "string2 = \"Python Programming\"\n",
        "print(string2[0:3])"
      ]
    },
    {
      "cell_type": "code",
      "execution_count": null,
      "metadata": {
        "id": "5SsZdIFQwmv4",
        "outputId": "7dd70df2-d644-4088-86d2-d921ab894a97"
      },
      "outputs": [
        {
          "name": "stdout",
          "output_type": "stream",
          "text": [
            "HELLO\n"
          ]
        }
      ],
      "source": [
        "# Write a code to convert the string \"hello\" to uppercase ?\n",
        "\n",
        "string3 = \"hello\"\n",
        "print(string3.upper())"
      ]
    },
    {
      "cell_type": "code",
      "execution_count": null,
      "metadata": {
        "id": "tiEXVAuiwmv4",
        "outputId": "5729c363-491a-46de-ad7b-25786e28538d"
      },
      "outputs": [
        {
          "name": "stdout",
          "output_type": "stream",
          "text": [
            "I like orange\n"
          ]
        }
      ],
      "source": [
        "#Write a code to replace the word \"apple\" with \"orange\" in the string \"I like apple\"?\n",
        "\n",
        "string4 = \"I like apple\"\n",
        "\n",
        "print(string4.replace('apple', 'orange'))"
      ]
    },
    {
      "cell_type": "code",
      "execution_count": null,
      "metadata": {
        "id": "bda57fdcwmv5",
        "outputId": "9b295e90-0e62-46f0-be76-94293a761cf3"
      },
      "outputs": [
        {
          "name": "stdout",
          "output_type": "stream",
          "text": [
            "[1, 2, 3, 4, 5]\n"
          ]
        }
      ],
      "source": [
        "#Write a code to create a list with numbers 1 to 5 and print it?\n",
        "list1 = []\n",
        "for i in range(1, 6):\n",
        "    list1.append(i)\n",
        "\n",
        "print(list1)"
      ]
    },
    {
      "cell_type": "code",
      "execution_count": null,
      "metadata": {
        "id": "nWkzW84Kwmv5",
        "outputId": "e998db58-adb7-4e73-b7eb-023e315a5208"
      },
      "outputs": [
        {
          "name": "stdout",
          "output_type": "stream",
          "text": [
            "[1, 2, 3, 4, 10]\n"
          ]
        }
      ],
      "source": [
        "#Write a code to append the number 10 to the list [1, 2, 3, 4]?\n",
        "\n",
        "list2 = [1, 2, 3, 4]\n",
        "list2.append(10)\n",
        "print(list2)"
      ]
    },
    {
      "cell_type": "code",
      "execution_count": null,
      "metadata": {
        "id": "ZAXi1RKKwmv6",
        "outputId": "f5be358f-c6b2-482c-8606-5c486dff2b18"
      },
      "outputs": [
        {
          "name": "stdout",
          "output_type": "stream",
          "text": [
            "[1, 2, 4, 5]\n"
          ]
        }
      ],
      "source": [
        "#Write a code to remove the number 3 from the list [1, 2, 3, 4, 5]?\n",
        "\n",
        "list3 = [1, 2, 3, 4, 5]\n",
        "list3.remove(3)\n",
        "\n",
        "print(list3)"
      ]
    },
    {
      "cell_type": "code",
      "execution_count": null,
      "metadata": {
        "id": "Suw6PaEYwmv7",
        "outputId": "251b28a6-2cce-4c78-c910-bb393d531d10"
      },
      "outputs": [
        {
          "name": "stdout",
          "output_type": "stream",
          "text": [
            "The second element of the list is:  b\n"
          ]
        }
      ],
      "source": [
        "#Write a code to access the second element in the list ['a', 'b', 'c', 'd']?\n",
        "\n",
        "list4 = ['a', 'b', 'c', 'd']\n",
        "\n",
        "print(\"The second element of the list is: \", list4[1])"
      ]
    },
    {
      "cell_type": "code",
      "execution_count": null,
      "metadata": {
        "id": "cFX8op_fwmv7",
        "outputId": "dd85adac-d882-4815-de02-38bfb9c4de59"
      },
      "outputs": [
        {
          "name": "stdout",
          "output_type": "stream",
          "text": [
            "[50, 40, 30, 20, 10]\n"
          ]
        }
      ],
      "source": [
        "#Write a code to reverse the list [10, 20, 30, 40, 50]?\n",
        "\n",
        "list5 =  [10, 20, 30, 40, 50]\n",
        "\n",
        "print(list5[::-1])"
      ]
    },
    {
      "cell_type": "code",
      "execution_count": null,
      "metadata": {
        "id": "2P_6-XUFwmv8",
        "outputId": "dd22f1c2-40b7-4208-e425-b00313717716"
      },
      "outputs": [
        {
          "name": "stdout",
          "output_type": "stream",
          "text": [
            "('red', 'green', 'blue', 'yellow')\n"
          ]
        }
      ],
      "source": [
        "#Write a code to create a tuple with the elements 100, 200, 300 and print it?\n",
        "\n",
        "tuple1 = ('red', 'green', 'blue', 'yellow')\n",
        "print(tuple1)"
      ]
    },
    {
      "cell_type": "code",
      "execution_count": null,
      "metadata": {
        "id": "zeEzfm60wmv8",
        "outputId": "45466e36-90aa-49f1-dfea-b6cf842838ae"
      },
      "outputs": [
        {
          "name": "stdout",
          "output_type": "stream",
          "text": [
            "blue\n"
          ]
        }
      ],
      "source": [
        "#Write a code to access the second-to-last element of the tuple ('red', 'green', 'blue', 'yellow')?\n",
        "\n",
        "tuple2 = ('red', 'green', 'blue', 'yellow')\n",
        "\n",
        "print(tuple2[-2])"
      ]
    },
    {
      "cell_type": "code",
      "execution_count": null,
      "metadata": {
        "id": "bza5FNNewmv8",
        "outputId": "f85977f6-7eb1-4a56-fd0a-5a443b1de0f7"
      },
      "outputs": [
        {
          "name": "stdout",
          "output_type": "stream",
          "text": [
            "5\n"
          ]
        }
      ],
      "source": [
        "#Write a code to find the minimum number in the tuple (10, 20, 5, 15)?\n",
        "tuple3 = (10, 20, 5, 15)\n",
        "min_val = list(tuple3)\n",
        "\n",
        "min_val.sort()\n",
        "\n",
        "print(min_val[0])"
      ]
    },
    {
      "cell_type": "code",
      "execution_count": null,
      "metadata": {
        "id": "P83uzGGnwmv9",
        "outputId": "19f53f91-4a3b-4471-800e-2d5582aa506f"
      },
      "outputs": [
        {
          "name": "stdout",
          "output_type": "stream",
          "text": [
            "1\n"
          ]
        }
      ],
      "source": [
        "#Write a code to find the index of the element \"cat\" in the tuple ('dog', 'cat', 'rabbit')?\n",
        "\n",
        "tuple4 =  ('dog', 'cat', 'rabbit')\n",
        "\n",
        "print(tuple4.index('cat'))"
      ]
    },
    {
      "cell_type": "code",
      "execution_count": null,
      "metadata": {
        "id": "hOdBILYHwmv9",
        "outputId": "e55dbc0f-0f65-4cae-9707-6fe1ae621a74"
      },
      "outputs": [
        {
          "name": "stdout",
          "output_type": "stream",
          "text": [
            "False\n"
          ]
        }
      ],
      "source": [
        "#Write a code to create a tuple containing three different fruits and check if \"kiwi\" is in it?\n",
        "\n",
        "tuple5 =  ('apple', 'orange', 'guvava')\n",
        "\n",
        "print('kiwi' in tuple5)"
      ]
    },
    {
      "cell_type": "code",
      "execution_count": null,
      "metadata": {
        "id": "YqwaxCeOwmv9",
        "outputId": "2e77d9fe-509d-4b16-8a67-83b64a8330f3"
      },
      "outputs": [
        {
          "name": "stdout",
          "output_type": "stream",
          "text": [
            "{'a', 'c', 'b'}\n"
          ]
        }
      ],
      "source": [
        "#Write a code to create a set with the elements 'a', 'b', 'c' and print it?\n",
        "\n",
        "set1 = {'a', 'b', 'c'}\n",
        "print(set1)"
      ]
    },
    {
      "cell_type": "code",
      "execution_count": null,
      "metadata": {
        "id": "u32lQZktwmv9",
        "outputId": "7964fcae-df93-428e-896b-36a476f2f0c6"
      },
      "outputs": [
        {
          "name": "stdout",
          "output_type": "stream",
          "text": [
            "set()\n"
          ]
        }
      ],
      "source": [
        "#Write a code to clear all elements from the set {1, 2, 3, 4, 5}?\n",
        "\n",
        "set2 = {1, 2, 3, 4, 5}\n",
        "set2.clear()\n",
        "print(set2)"
      ]
    },
    {
      "cell_type": "code",
      "execution_count": null,
      "metadata": {
        "id": "GI8wtba1wmv9",
        "outputId": "f26845ef-6fd2-4273-9d09-7438fcf7b24c"
      },
      "outputs": [
        {
          "name": "stdout",
          "output_type": "stream",
          "text": [
            "{1, 2, 3}\n"
          ]
        }
      ],
      "source": [
        "#Write a code to remove the element 4 from the set {1, 2, 3, 4}?\n",
        "\n",
        "set3 = {1, 2, 3, 4}\n",
        "set3.remove(4)      # can use discard() too it won't give an error if even element 4 is not present in the set\n",
        "print(set3)"
      ]
    },
    {
      "cell_type": "code",
      "execution_count": null,
      "metadata": {
        "id": "ZBz98KHPwmv-",
        "outputId": "1a86cbb8-eb10-4254-ee62-018df824ce59"
      },
      "outputs": [
        {
          "name": "stdout",
          "output_type": "stream",
          "text": [
            "{1, 2, 3, 4, 5}\n"
          ]
        }
      ],
      "source": [
        "#Write a code to find the union of two sets {1, 2, 3} and {3, 4, 5}?\n",
        "\n",
        "set4 = {1, 2, 3}\n",
        "set5 = {3, 4, 5}\n",
        "set6 = set4.union(set5)\n",
        "print(set6)"
      ]
    },
    {
      "cell_type": "code",
      "execution_count": null,
      "metadata": {
        "id": "Wt-hK2hrwmv-",
        "outputId": "2e8d8d7d-0250-4970-8fea-bd1b4893f197"
      },
      "outputs": [
        {
          "name": "stdout",
          "output_type": "stream",
          "text": [
            "{2, 3}\n"
          ]
        }
      ],
      "source": [
        "#Write a code to find the intersection of two sets {1, 2, 3} and {2, 3, 4}?\n",
        "\n",
        "set4 = {1, 2, 3}\n",
        "set5 = {2, 3, 4}\n",
        "set6 = set4.intersection(set5)\n",
        "print(set6)"
      ]
    },
    {
      "cell_type": "code",
      "execution_count": null,
      "metadata": {
        "id": "qtczkEEjwmv-",
        "outputId": "2013f86b-ff98-4184-ff97-07cbd040ecff"
      },
      "outputs": [
        {
          "name": "stdout",
          "output_type": "stream",
          "text": [
            "{'name': 'akash', 'age': 25, 'city': 'delhi'}\n"
          ]
        }
      ],
      "source": [
        "#Write a code to create a dictionary with the keys \"name\", \"age\", and \"city\", and print it?\n",
        "\n",
        "dict1 = {\"name\":'akash', \"age\":25, \"city\": 'delhi'}\n",
        "print(dict1)"
      ]
    },
    {
      "cell_type": "code",
      "execution_count": null,
      "metadata": {
        "id": "TCkr78CIwmv_",
        "outputId": "66f9a30c-98d7-4ada-b628-d9355f9d3c8c"
      },
      "outputs": [
        {
          "name": "stdout",
          "output_type": "stream",
          "text": [
            "{'name': 'John', 'age': 25, 'country': 'USA'}\n"
          ]
        }
      ],
      "source": [
        "#Write a code to add a new key-value pair \"country\": \"USA\" to the dictionary {'name': 'John', 'age': 25}?\n",
        "\n",
        "dict2 =  {'name': 'John', 'age': 25}\n",
        "\n",
        "dict2[\"country\"] = \"USA\"     # can also use update() i.e update({\"country\": \"uda\"})\n",
        "\n",
        "print(dict2)"
      ]
    },
    {
      "cell_type": "code",
      "execution_count": null,
      "metadata": {
        "id": "H6HlvKrnwmv_",
        "outputId": "8242d5f0-71df-4ad8-e30e-0d221384d055"
      },
      "outputs": [
        {
          "name": "stdout",
          "output_type": "stream",
          "text": [
            "Alice\n"
          ]
        }
      ],
      "source": [
        "#Write a code to access the value associated with the key \"name\" in the dictionary {'name': 'Alice', 'age': 30}?\n",
        "\n",
        "dict3 =  {'name': 'Alice', 'age': 30}\n",
        "\n",
        "print(dict3.get(\"name\"))      # instead of get() you can also use ..>>>>>>   dict3[\"name\"]"
      ]
    },
    {
      "cell_type": "code",
      "execution_count": null,
      "metadata": {
        "id": "nOJAaSGbwmv_",
        "outputId": "71d53054-63f7-4afa-e753-084828a85206"
      },
      "outputs": [
        {
          "name": "stdout",
          "output_type": "stream",
          "text": [
            "{'name': 'Bob', 'city': 'New York'}\n"
          ]
        }
      ],
      "source": [
        "#Write a code to remove the key \"age\" from the dictionary {'name': 'Bob', 'age': 22, 'city': 'New York'}?\n",
        "\n",
        "dict4 = {'name': 'Bob', 'age': 22, 'city': 'New York'}\n",
        "\n",
        "dict4.pop(\"age\")        # can also use del   >>>>> del dict[\"age\"]   >>>> del list .... to completely deleat the list\n",
        "print(dict4)"
      ]
    },
    {
      "cell_type": "code",
      "execution_count": null,
      "metadata": {
        "id": "L0b8JILvwmv_",
        "outputId": "44f1e69c-68c7-4cd8-c7e3-0856a6bc2e94"
      },
      "outputs": [
        {
          "name": "stdout",
          "output_type": "stream",
          "text": [
            "True\n"
          ]
        }
      ],
      "source": [
        "#Write a code to check if the key \"city\" exists in the dictionary {'name': 'Alice', 'city': 'Paris'}?\n",
        "\n",
        "dict5 =  {'name': 'Alice', 'city': 'Paris'}\n",
        "\n",
        "print('city' in dict5)"
      ]
    },
    {
      "cell_type": "code",
      "execution_count": null,
      "metadata": {
        "id": "AJBr2cxCwmwA",
        "outputId": "05795fe8-9855-42b8-cb14-2f02a081d886"
      },
      "outputs": [
        {
          "name": "stdout",
          "output_type": "stream",
          "text": [
            "Created list is:  ['akash', 'anubhav', 'harshit', 'sankar']\n",
            "Created tuple is:  ('dog', 'cat', 'rabbit')\n",
            "Created dictonary is:  {'name': 'Bob', 'age': 22, 'city': 'New York'}\n"
          ]
        }
      ],
      "source": [
        "#Write a code to create a list, a tuple, and a dictionary, and print them all ?\n",
        "\n",
        "list6 = ['akash', 'anubhav', 'harshit', 'sankar']\n",
        "tuple4 =  ('dog', 'cat', 'rabbit')\n",
        "dict4 = {'name': 'Bob', 'age': 22, 'city': 'New York'}\n",
        "\n",
        "print(\"Created list is: \", list6)\n",
        "print(\"Created tuple is: \",tuple4)\n",
        "print(\"Created dictonary is: \",dict4)\n"
      ]
    },
    {
      "cell_type": "code",
      "execution_count": null,
      "metadata": {
        "id": "_rpsbN1rwmwA",
        "outputId": "1b4f8268-ccd6-44c2-f74b-c65af2670b28"
      },
      "outputs": [
        {
          "name": "stdout",
          "output_type": "stream",
          "text": [
            "[89, 25, 46, 41]\n"
          ]
        }
      ],
      "source": [
        "#Write a code to create a list of 5 random numbers between 1 and 100, sort it in ascending order, and print the result?\n",
        "\n",
        "import random\n",
        "random_list = []\n",
        "\n",
        "for i in range(4):\n",
        "    random_list.append(random.randint(1, 100))\n",
        "\n",
        "print(random_list)\n",
        "\n"
      ]
    },
    {
      "cell_type": "code",
      "execution_count": null,
      "metadata": {
        "id": "KWomt_BVwmwA",
        "outputId": "007fff11-f3ef-4b36-83eb-da7f53bde9f5"
      },
      "outputs": [
        {
          "name": "stdout",
          "output_type": "stream",
          "text": [
            "sankar\n"
          ]
        }
      ],
      "source": [
        "#Write a code to create a list with strings and print the element at the third index?\n",
        "\n",
        "list6 = ['akash', 'anubhav', 'harshit', 'sankar']\n",
        "\n",
        "print(list6[3])"
      ]
    },
    {
      "cell_type": "code",
      "execution_count": null,
      "metadata": {
        "id": "6WlexD8JwmwA",
        "outputId": "78686d27-786e-4f8d-a2c8-8496e78227aa"
      },
      "outputs": [
        {
          "name": "stdout",
          "output_type": "stream",
          "text": [
            "{'name': 'Bob', 'age': 22, 'city': 'New York', 'X': '101', 'Z': 25, 'Y': 202}\n"
          ]
        }
      ],
      "source": [
        "#Write a code to combine two dictionaries into one and print the result?\n",
        "\n",
        "dict4 = {'name': 'Bob', 'age': 22, 'city': 'New York'}\n",
        "dict1 = {\"X\":'101', \"Z\":25, \"Y\": 202}\n",
        "\n",
        "dict4.update(dict1)\n",
        "\n",
        "print(dict4)"
      ]
    },
    {
      "cell_type": "code",
      "execution_count": null,
      "metadata": {
        "id": "2LOw9NDIwmwA",
        "outputId": "50875ad0-578b-4ae6-8a1c-81af4e09019f"
      },
      "outputs": [
        {
          "name": "stdout",
          "output_type": "stream",
          "text": [
            "{'akash', 'sankar', 'anubhav', 'harshit'}\n"
          ]
        }
      ],
      "source": [
        "#Write a code to convert a list of strings into a set?\n",
        "\n",
        "list6 = ['akash', 'anubhav', 'harshit', 'sankar']\n",
        "\n",
        "set7 = set(list6)\n",
        "print(set7)"
      ]
    }
  ],
  "metadata": {
    "kernelspec": {
      "display_name": "Python 3",
      "language": "python",
      "name": "python3"
    },
    "language_info": {
      "codemirror_mode": {
        "name": "ipython",
        "version": 3
      },
      "file_extension": ".py",
      "mimetype": "text/x-python",
      "name": "python",
      "nbconvert_exporter": "python",
      "pygments_lexer": "ipython3",
      "version": "3.13.1"
    },
    "colab": {
      "provenance": []
    }
  },
  "nbformat": 4,
  "nbformat_minor": 0
}